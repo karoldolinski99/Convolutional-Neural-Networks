{
 "cells": [
  {
   "cell_type": "markdown",
   "metadata": {},
   "source": [
    "# Convolutional Neural Networks for the CIFAR-10 dataset"
   ]
  },
  {
   "cell_type": "markdown",
   "metadata": {},
   "source": [
    "# The dataset\n",
    "\n",
    "The dataset includes different types of images:\n",
    "\n",
    "0. airplane\n",
    "1. automobile \t\t\t\t\t\t\t\t\t\t\n",
    "2. bird \t\t\t\t\t\t\t\t\t\t\n",
    "3. cat \t\t\t\t\t\t\t\t\t\t\n",
    "4. deer \t\t\t\t\t\t\t\t\t\t\n",
    "5. dog \t\t\t\t\t\t\t\t\t\t\n",
    "6. frog \t\t\t\t\t\t\t\t\t\t\n",
    "7. horse \t\t\t\t\t\t\t\t\t\t\n",
    "8. ship \t\t\t\t\t\t\t\t\t\t\n",
    "9. truck\n",
    "\n",
    "Image details:\n",
    "+ size: 32 x 32\n",
    "+ color images\n",
    "\n",
    "Dataset details:\n",
    "+ Training set: 50.000 images\n",
    "+ Test set: 10.000 images\n"
   ]
  },
  {
   "cell_type": "code",
   "execution_count": 1,
   "metadata": {},
   "outputs": [],
   "source": [
    "import pandas as pd\n",
    "import numpy as np\n",
    "import matplotlib.pyplot as plt\n",
    "from tensorflow.keras.datasets import cifar10"
   ]
  },
  {
   "cell_type": "code",
   "execution_count": 2,
   "metadata": {},
   "outputs": [
    {
     "data": {
      "text/plain": [
       "(50000, 32, 32, 3)"
      ]
     },
     "execution_count": 2,
     "metadata": {},
     "output_type": "execute_result"
    }
   ],
   "source": [
    "(x_train, y_train), (x_test, y_test) = cifar10.load_data()\n",
    "x_train.shape"
   ]
  },
  {
   "cell_type": "markdown",
   "metadata": {},
   "source": [
    "One of the images is shown below. It is an automobile. "
   ]
  },
  {
   "cell_type": "code",
   "execution_count": 3,
   "metadata": {},
   "outputs": [
    {
     "data": {
      "text/plain": [
       "<matplotlib.image.AxesImage at 0x201a9b0c208>"
      ]
     },
     "execution_count": 3,
     "metadata": {},
     "output_type": "execute_result"
    },
    {
     "data": {
      "image/png": "[encoded data removed]",
      "text/plain": [
       "<Figure size 432x288 with 1 Axes>"
      ]
     },
     "metadata": {
      "needs_background": "light"
     },
     "output_type": "display_data"
    }
   ],
   "source": [
    "plt.imshow(x_train[105])"
   ]
  },
  {
   "cell_type": "markdown",
   "metadata": {},
   "source": [
    "Normalizing the X train and X test."
   ]
  },
  {
   "cell_type": "code",
   "execution_count": 4,
   "metadata": {},
   "outputs": [],
   "source": [
    "x_train = x_train/x_train.max()"
   ]
  },
  {
   "cell_type": "code",
   "execution_count": 5,
   "metadata": {},
   "outputs": [],
   "source": [
    "x_test = x_test/x_train.max()"
   ]
  },
  {
   "cell_type": "code",
   "execution_count": 6,
   "metadata": {},
   "outputs": [
    {
     "data": {
      "text/plain": [
       "(50000, 32, 32, 3)"
      ]
     },
     "execution_count": 6,
     "metadata": {},
     "output_type": "execute_result"
    }
   ],
   "source": [
    "x_train.shape"
   ]
  },
  {
   "cell_type": "markdown",
   "metadata": {},
   "source": [
    "Converting the y_train and y_test values."
   ]
  },
  {
   "cell_type": "code",
   "execution_count": 7,
   "metadata": {},
   "outputs": [],
   "source": [
    "from tensorflow.keras.utils import to_categorical"
   ]
  },
  {
   "cell_type": "code",
   "execution_count": 8,
   "metadata": {},
   "outputs": [],
   "source": [
    "y_train_categorical = to_categorical(y_train,10)"
   ]
  },
  {
   "cell_type": "code",
   "execution_count": 9,
   "metadata": {},
   "outputs": [],
   "source": [
    "y_test_categorical = to_categorical(y_test,10)"
   ]
  },
  {
   "cell_type": "markdown",
   "metadata": {},
   "source": [
    "## Building and training the model"
   ]
  },
  {
   "cell_type": "code",
   "execution_count": 10,
   "metadata": {},
   "outputs": [],
   "source": [
    "from tensorflow.keras.models import Sequential\n",
    "from tensorflow.keras.layers import Dense, Conv2D, MaxPool2D, Flatten\n",
    "from tensorflow.keras.callbacks import EarlyStopping"
   ]
  },
  {
   "cell_type": "code",
   "execution_count": 11,
   "metadata": {},
   "outputs": [],
   "source": [
    "model = Sequential()\n",
    "\n",
    "model.add(Conv2D(filters=16, kernel_size=(4,4),input_shape=(32, 32, 3), activation='relu',))\n",
    "model.add(MaxPool2D(pool_size=(2, 2)))\n",
    "\n",
    "model.add(Conv2D(filters=32, kernel_size=(4,4),input_shape=(32, 32, 3), activation='relu',))\n",
    "model.add(MaxPool2D(pool_size=(2, 2)))\n",
    "\n",
    "model.add(Flatten())\n",
    "\n",
    "model.add(Dense(256, activation='relu'))\n",
    "model.add(Dense(10, activation='softmax'))\n",
    "\n",
    "model.compile(loss='categorical_crossentropy',\n",
    "              optimizer='adam',\n",
    "              metrics=['accuracy'])"
   ]
  },
  {
   "cell_type": "code",
   "execution_count": 12,
   "metadata": {},
   "outputs": [
    {
     "name": "stdout",
     "output_type": "stream",
     "text": [
      "Model: \"sequential\"\n",
      "_________________________________________________________________\n",
      "Layer (type)                 Output Shape              Param #   \n",
      "=================================================================\n",
      "conv2d (Conv2D)              (None, 29, 29, 16)        784       \n",
      "_________________________________________________________________\n",
      "max_pooling2d (MaxPooling2D) (None, 14, 14, 16)        0         \n",
      "_________________________________________________________________\n",
      "conv2d_1 (Conv2D)            (None, 11, 11, 32)        8224      \n",
      "_________________________________________________________________\n",
      "max_pooling2d_1 (MaxPooling2 (None, 5, 5, 32)          0         \n",
      "_________________________________________________________________\n",
      "flatten (Flatten)            (None, 800)               0         \n",
      "_________________________________________________________________\n",
      "dense (Dense)                (None, 256)               205056    \n",
      "_________________________________________________________________\n",
      "dense_1 (Dense)              (None, 10)                2570      \n",
      "=================================================================\n",
      "Total params: 216,634\n",
      "Trainable params: 216,634\n",
      "Non-trainable params: 0\n",
      "_________________________________________________________________\n"
     ]
    }
   ],
   "source": [
    "model.summary()"
   ]
  },
  {
   "cell_type": "code",
   "execution_count": 13,
   "metadata": {},
   "outputs": [],
   "source": [
    "early_stop = EarlyStopping(monitor='val_loss',patience=4)"
   ]
  },
  {
   "cell_type": "code",
   "execution_count": 14,
   "metadata": {},
   "outputs": [
    {
     "name": "stdout",
     "output_type": "stream",
     "text": [
      "Train on 50000 samples, validate on 10000 samples\n",
      "Epoch 1/16\n",
      "50000/50000 [==============================] - 26s 526us/sample - loss: 1.5924 - accuracy: 0.4254 - val_loss: 204.6583 - val_accuracy: 0.4400\n",
      "Epoch 2/16\n",
      "50000/50000 [==============================] - 33s 666us/sample - loss: 1.2853 - accuracy: 0.5454 - val_loss: 235.0324 - val_accuracy: 0.4255\n",
      "Epoch 3/16\n",
      "50000/50000 [==============================] - 33s 670us/sample - loss: 1.1534 - accuracy: 0.5953 - val_loss: 219.9748 - val_accuracy: 0.4734\n",
      "Epoch 4/16\n",
      "50000/50000 [==============================] - 34s 681us/sample - loss: 1.0643 - accuracy: 0.6284 - val_loss: 253.0666 - val_accuracy: 0.4574\n",
      "Epoch 5/16\n",
      "50000/50000 [==============================] - 34s 688us/sample - loss: 0.9918 - accuracy: 0.6530 - val_loss: 259.7594 - val_accuracy: 0.4658\n"
     ]
    },
    {
     "data": {
      "text/plain": [
       "<tensorflow.python.keras.callbacks.History at 0x2019df44d88>"
      ]
     },
     "execution_count": 14,
     "metadata": {},
     "output_type": "execute_result"
    }
   ],
   "source": [
    "model.fit(x_train,y_train_categorical,\n",
    "          epochs=16,\n",
    "          batch_size=128,\n",
    "          validation_data=(x_test,y_test_categorical),\n",
    "          callbacks=[early_stop])"
   ]
  },
  {
   "cell_type": "markdown",
   "metadata": {},
   "source": [
    "## Evaluating the model"
   ]
  },
  {
   "cell_type": "code",
   "execution_count": 15,
   "metadata": {},
   "outputs": [],
   "source": [
    "from sklearn.metrics import classification_report,confusion_matrix\n",
    "predictions = model.predict_classes(x_test)"
   ]
  },
  {
   "cell_type": "code",
   "execution_count": 16,
   "metadata": {},
   "outputs": [
    {
     "name": "stdout",
     "output_type": "stream",
     "text": [
      "              precision    recall  f1-score   support\n",
      "\n",
      "           0       0.30      0.85      0.45      1000\n",
      "           1       0.57      0.81      0.67      1000\n",
      "           2       0.58      0.23      0.33      1000\n",
      "           3       0.46      0.10      0.16      1000\n",
      "           4       0.84      0.06      0.11      1000\n",
      "           5       0.38      0.55      0.45      1000\n",
      "           6       0.99      0.08      0.15      1000\n",
      "           7       0.52      0.66      0.58      1000\n",
      "           8       0.66      0.67      0.66      1000\n",
      "           9       0.50      0.66      0.57      1000\n",
      "\n",
      "    accuracy                           0.47     10000\n",
      "   macro avg       0.58      0.47      0.41     10000\n",
      "weighted avg       0.58      0.47      0.41     10000\n",
      "\n"
     ]
    }
   ],
   "source": [
    "print(classification_report(y_test,predictions))"
   ]
  },
  {
   "cell_type": "code",
   "execution_count": 17,
   "metadata": {},
   "outputs": [
    {
     "data": {
      "text/plain": [
       "array([[847,  31,   3,   1,   0,   6,   0,   4,  65,  43],\n",
       "       [ 70, 808,   2,   1,   0,   1,   0,   1,  35,  82],\n",
       "       [399,  39, 227,  20,   7, 166,   0,  63,  38,  41],\n",
       "       [265,  62,  20,  98,   1, 316,   1,  97,  39, 101],\n",
       "       [339,  62,  59,  19,  61, 149,   0, 237,  29,  45],\n",
       "       [163,  31,  23,  21,   1, 554,   0, 114,  21,  72],\n",
       "       [239, 116,  44,  53,   3, 188,  79,  91,  59, 128],\n",
       "       [151,  23,   6,   1,   0,  61,   0, 655,   7,  96],\n",
       "       [229,  50,   1,   0,   0,   5,   0,   3, 665,  47],\n",
       "       [ 87, 192,   4,   1,   0,   5,   0,   4,  43, 664]], dtype=int64)"
      ]
     },
     "execution_count": 17,
     "metadata": {},
     "output_type": "execute_result"
    }
   ],
   "source": [
    "confusion_matrix(y_test,predictions)"
   ]
  }
 ],
 "metadata": {
  "kernelspec": {
   "display_name": "Python 3 (ipykernel)",
   "language": "python",
   "name": "python3"
  },
  "language_info": {
   "codemirror_mode": {
    "name": "ipython",
    "version": 3
   },
   "file_extension": ".py",
   "mimetype": "text/x-python",
   "name": "python",
   "nbconvert_exporter": "python",
   "pygments_lexer": "ipython3",
   "version": "3.7.13"
  }
 },
 "nbformat": 4,
 "nbformat_minor": 2
}
